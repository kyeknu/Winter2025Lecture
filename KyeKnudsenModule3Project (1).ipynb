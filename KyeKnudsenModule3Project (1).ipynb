{
 "cells": [
  {
   "cell_type": "code",
   "execution_count": 8,
   "id": "7461b76d-ba8f-4a23-a1a8-63c9afa15c86",
   "metadata": {},
   "outputs": [],
   "source": [
    "import pandas as pd\n",
    "import requests\n",
    "from bs4 import BeautifulSoup"
   ]
  },
  {
   "cell_type": "code",
   "execution_count": 9,
   "id": "4b9d799f-5bf3-4b28-94e5-0386248b892e",
   "metadata": {},
   "outputs": [],
   "source": [
    "response=requests.get('https://btech-data-analytics.github.io/bridgerland-technical-college/bookstore.html').text"
   ]
  },
  {
   "cell_type": "code",
   "execution_count": 10,
   "id": "81067d5b-b8ed-4f4d-b044-048ffb4fde8e",
   "metadata": {},
   "outputs": [],
   "source": [
    "soup= BeautifulSoup(response, 'html.parser')"
   ]
  },
  {
   "cell_type": "code",
   "execution_count": 12,
   "id": "7508a4d1-0608-4bd2-a79e-57a7c697ca6b",
   "metadata": {},
   "outputs": [],
   "source": [
    "Price=[]\n",
    "Topic=[]\n",
    "Author=[]\n",
    "Pages=[]\n",
    "\n",
    "for book in soup.find('table').find_all('tr', class_='book'):\n",
    "    Price.append(book.find_all('td')[6].text)\n",
    "    Topic.append(book.find_all('td')[5].text)\n",
    "    Author.append(book.find_all('td')[2].text)\n",
    "    Pages.append(book.find_all('td')[4].text)"
   ]
  },
  {
   "cell_type": "code",
   "execution_count": 15,
   "id": "bfde8203-374d-4ed6-b191-46321adccbdd",
   "metadata": {},
   "outputs": [],
   "source": [
    "df=pd.DataFrame({\n",
    "    'Price': Price,\n",
    "    'Topic': Topic,\n",
    "    'Author': Author,\n",
    "    'Pages': Pages\n",
    "    })"
   ]
  },
  {
   "cell_type": "code",
   "execution_count": 16,
   "id": "8220a3c7-f60f-4a8f-9f57-2316449e6776",
   "metadata": {},
   "outputs": [
    {
     "name": "stdout",
     "output_type": "stream",
     "text": [
      "<class 'pandas.core.frame.DataFrame'>\n",
      "RangeIndex: 15 entries, 0 to 14\n",
      "Data columns (total 4 columns):\n",
      " #   Column  Non-Null Count  Dtype \n",
      "---  ------  --------------  ----- \n",
      " 0   Price   15 non-null     object\n",
      " 1   Topic   15 non-null     object\n",
      " 2   Author  15 non-null     object\n",
      " 3   Pages   15 non-null     object\n",
      "dtypes: object(4)\n",
      "memory usage: 612.0+ bytes\n"
     ]
    }
   ],
   "source": [
    "df.info()"
   ]
  },
  {
   "cell_type": "code",
   "execution_count": 18,
   "id": "4e7b19f5-7294-48af-98b7-88303a7ad693",
   "metadata": {},
   "outputs": [
    {
     "data": {
      "text/plain": [
       "Author\n",
       "Penelope Wainwright    4\n",
       "Jasper Sterling        2\n",
       "Benjamin Barkley       2\n",
       "Maximilian Thorne      1\n",
       "Celeste Nightshade     1\n",
       "Isadora Harrington     1\n",
       "Seraphina Montague     1\n",
       "Sophie Shepherd        1\n",
       "Oliver Obedience       1\n",
       "Ruby Ruffington        1\n",
       "Name: count, dtype: int64"
      ]
     },
     "execution_count": 18,
     "metadata": {},
     "output_type": "execute_result"
    }
   ],
   "source": [
    "df['Author'].value_counts()"
   ]
  },
  {
   "cell_type": "code",
   "execution_count": 20,
   "id": "b2f3a9bb-3561-4526-8fc2-cd24f3cb8643",
   "metadata": {},
   "outputs": [
    {
     "data": {
      "text/plain": [
       "Topic\n",
       "Cats    10\n",
       "Dogs     5\n",
       "Name: count, dtype: int64"
      ]
     },
     "execution_count": 20,
     "metadata": {},
     "output_type": "execute_result"
    }
   ],
   "source": [
    "df['Topic'].value_counts()"
   ]
  },
  {
   "cell_type": "code",
   "execution_count": 23,
   "id": "5cb2dd52-305d-494d-bcad-9fbc1717da41",
   "metadata": {},
   "outputs": [],
   "source": [
    "df['Price'] = df['Price'].str.replace('$', '', regex=False)"
   ]
  },
  {
   "cell_type": "code",
   "execution_count": 24,
   "id": "55efd68e-6712-400b-9aba-9f758ef7e439",
   "metadata": {},
   "outputs": [
    {
     "data": {
      "text/plain": [
       "0     19.99\n",
       "1     15.99\n",
       "2     21.99\n",
       "3     17.99\n",
       "4     16.99\n",
       "5     20.99\n",
       "6     14.99\n",
       "7     18.99\n",
       "8     16.99\n",
       "9     12.99\n",
       "10    29.99\n",
       "11    25.99\n",
       "12    21.99\n",
       "13    27.99\n",
       "14    26.99\n",
       "Name: Price, dtype: object"
      ]
     },
     "execution_count": 24,
     "metadata": {},
     "output_type": "execute_result"
    }
   ],
   "source": [
    "df['Price']"
   ]
  },
  {
   "cell_type": "code",
   "execution_count": 26,
   "id": "13779455-60ea-4702-b1aa-eece45d4dd78",
   "metadata": {},
   "outputs": [],
   "source": [
    "df['Price'] = df['Price'].astype(float)"
   ]
  },
  {
   "cell_type": "code",
   "execution_count": 30,
   "id": "1932e599-e76e-4afa-b07e-4e483dc7ee94",
   "metadata": {},
   "outputs": [
    {
     "data": {
      "text/plain": [
       "Topic\n",
       "Cats    17.79\n",
       "Dogs    26.59\n",
       "Name: Price, dtype: float64"
      ]
     },
     "execution_count": 30,
     "metadata": {},
     "output_type": "execute_result"
    }
   ],
   "source": [
    "df.groupby('Topic')['Price'].mean()"
   ]
  },
  {
   "cell_type": "code",
   "execution_count": 32,
   "id": "e74f94e2-3235-4e7f-afdb-d0b3b6e7ce6a",
   "metadata": {},
   "outputs": [],
   "source": [
    "df['Pages'] = df['Pages'].astype(int)"
   ]
  },
  {
   "cell_type": "code",
   "execution_count": 33,
   "id": "9c6c7eb7-6df6-4a06-8121-48691214c619",
   "metadata": {},
   "outputs": [
    {
     "data": {
      "text/plain": [
       "Topic\n",
       "Cats    238.4\n",
       "Dogs    256.0\n",
       "Name: Pages, dtype: float64"
      ]
     },
     "execution_count": 33,
     "metadata": {},
     "output_type": "execute_result"
    }
   ],
   "source": [
    "df.groupby('Topic')['Pages'].mean()"
   ]
  }
 ],
 "metadata": {
  "kernelspec": {
   "display_name": "Python 3 (ipykernel)",
   "language": "python",
   "name": "python3"
  },
  "language_info": {
   "codemirror_mode": {
    "name": "ipython",
    "version": 3
   },
   "file_extension": ".py",
   "mimetype": "text/x-python",
   "name": "python",
   "nbconvert_exporter": "python",
   "pygments_lexer": "ipython3",
   "version": "3.13.2"
  }
 },
 "nbformat": 4,
 "nbformat_minor": 5
}
